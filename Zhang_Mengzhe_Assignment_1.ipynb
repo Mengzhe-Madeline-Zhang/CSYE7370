{
 "cells": [
  {
   "cell_type": "markdown",
   "metadata": {},
   "source": [
    "# 1. Abstract\n",
    "\n",
    "In the real word, merchants always need to solve problems of selecting item to sell and trying to maximize the profit.In most instances, the outcomes of sell always have two possible outcomes: purchase or not, by other word, \"success\" and \"failure\". So we can utilize Bernoulli trial to analyse this case:\n",
    "\n",
    "One merchat plans to purchase and stock 1000 packages of face masks to sell during Covid-19, Besides, there are 10 typs of masks that are available on the market. However, he is not sure which ones are popular and get confused how to make this order about type distribution.Based on above situation, his partner is going to use Contextual Bandits theory with Thompson Sampling, e-greedy, UBC, and random sampling to assist this problem.\n",
    "\n",
    "At last, through simulation and modeling, we can conclude that Thompson sampling performs best with highest reward, and UBC is also fit to this case well."
   ]
  },
  {
   "cell_type": "markdown",
   "metadata": {},
   "source": [
    "# 2. Setting up the enivironment\n",
    "The multi-armed bandit problem is a classic problem that well demonstrates the exploration vs exploitation dilemma."
   ]
  },
  {
   "cell_type": "code",
   "execution_count": 19,
   "metadata": {},
   "outputs": [
    {
     "name": "stdout",
     "output_type": "stream",
     "text": [
      "For true results:\n",
      "True Award Rate for type0: 81.94%\n",
      "True Award Rate for type1: 69.49%\n",
      "True Award Rate for type2: 66.61%\n",
      "True Award Rate for type3: 32.42%\n",
      "True Award Rate for type4: 67.17%\n",
      "True Award Rate for type5: 88.07%\n",
      "True Award Rate for type6: 83.95%\n",
      "True Award Rate for type7: 58.55%\n",
      "True Award Rate for type8: 93.02%\n",
      "True Award Rate for type9: 82.49%\n",
      "True Conclusion: The best type to sell acutually is type 8!\n"
     ]
    }
   ],
   "source": [
    "# Define Environment\n",
    "\n",
    "# Import libraries\n",
    "import numpy as np\n",
    "\n",
    "# Define the total number of turns, which are total sell chances in this case\n",
    "T = 1000\n",
    "# Define the total number of slot machines, which are item types in this case\n",
    "N = 10\n",
    "\n",
    "# Create random rates between 0 and 1, which are the true situation for each item type purchased rate\n",
    "true_award = np.random.uniform(0,1,N)# The true rate to be sold\n",
    "\n",
    "print('For true results:') \n",
    "for i in range(N):\n",
    "    print('True Award Rate for type{0}: {1:.2%}'.format(i,true_award[i]))\n",
    "print('True Conclusion: The best type to sell acutually is type {}!'.format(np.argmax(true_award)))\n"
   ]
  },
  {
   "cell_type": "code",
   "execution_count": 20,
   "metadata": {},
   "outputs": [
    {
     "name": "stdout",
     "output_type": "stream",
     "text": [
      "[[1. 1. 1. 0. 1. 1.]\n",
      " [1. 1. 1. 0. 1. 1.]\n",
      " [0. 1. 1. 1. 1. 1.]\n",
      " [1. 1. 1. 1. 0. 1.]\n",
      " [1. 0. 1. 0. 1. 1.]\n",
      " [1. 0. 1. 0. 1. 1.]\n",
      " [0. 1. 0. 0. 1. 0.]\n",
      " [0. 1. 1. 1. 1. 1.]\n",
      " [0. 1. 0. 0. 1. 1.]\n",
      " [1. 1. 1. 0. 1. 1.]\n",
      " [1. 1. 0. 1. 1. 1.]\n",
      " [1. 0. 0. 0. 1. 0.]\n",
      " [1. 0. 1. 0. 0. 1.]\n",
      " [1. 0. 1. 0. 0. 1.]\n",
      " [0. 1. 1. 1. 1. 0.]]\n"
     ]
    }
   ],
   "source": [
    "# Create Data Matrix\n",
    "# This cell is from [1]\n",
    "# The matrix with one row for each turn, and one column for each item type.\n",
    "# Each item in the matrix represents the outcome of what would happen on that particular turn. \n",
    "# A value of \"1\" indicates that we would win, while a value of \"0\" indicates that we would lose. \n",
    "# The number of \"wins\" for each type is determined by its true Award  rate.\n",
    "\n",
    "outcomes = np.zeros((T, N)) #create a two-dimensional numpy array, and fill it with zeros\n",
    "for t in range(T): #for each turn\n",
    "    for n in range(N): #for each slot machine\n",
    "        #Get a random number between 0.0 and 1.0.\n",
    "        #If the random number is less than or equal to this type true award rate, then set the outcome to \"1\".\n",
    "        #Otherwise, the outcome will be \"0\" because the entire matrix was initially filled with zeros.\n",
    "        if np.random.rand() <= true_award[n]:\n",
    "            outcomes[t][n] = 1\n",
    "\n",
    "#display the first 15 rows of data\n",
    "print(outcomes[0:15, 0:6]) #this sort of indexing means \"rows 0 to 14\" (i.e., the first 15 rows) and \"columns 0 through 5\" (i.e., the first six columns)"
   ]
  },
  {
   "cell_type": "markdown",
   "metadata": {},
   "source": [
    "# 3. Thompson sampling\n",
    "Thompson sampling has a simple idea but it works great for solving the multi-armed bandit problem."
   ]
  },
  {
   "cell_type": "code",
   "execution_count": 21,
   "metadata": {},
   "outputs": [
    {
     "name": "stdout",
     "output_type": "stream",
     "text": [
      "Number of turns 1000:\n",
      "For Thompson Sampling results:\n",
      "Estimated Award for type0: 87.78%\n",
      "Estimated Award for type1: 80.00%\n",
      "Estimated Award for type2: 74.07%\n",
      "Estimated Award for type3: 0.00%\n",
      "Estimated Award for type4: 60.00%\n",
      "Estimated Award for type5: 86.49%\n",
      "Estimated Award for type6: 84.85%\n",
      "Estimated Award for type7: 40.00%\n",
      "Estimated Award for type8: 91.80%\n",
      "Estimated Award for type9: 0.00%\n",
      "Thompson Sampling Conclusion:\n",
      "The best type to sell is type 8!\n",
      "The total times to sell is 885!\n"
     ]
    }
   ],
   "source": [
    "# Thompson sampling\n",
    "\n",
    "# Generate random numbers by beta(win[arm], lose[arm]) to each type, and choose the biggest one in this turn\n",
    "\n",
    "# Create arrays to contain the win (purchased) and lose (not purchased) for each item type\n",
    "win = np.zeros(N)\n",
    "lose = np.zeros(N)\n",
    "estimated_award = np.zeros(N)\n",
    "\n",
    "# Thompson Samping with  beta distribution\n",
    "def Thompson_sampling():\n",
    "    arm_prob = [np.random.beta(win[i]+1, lose[i]+1) for i in range(N)]\n",
    "    item = np.argmax(arm_prob)\n",
    "    reward = np.random.binomial(n=1,p=true_award[item])\n",
    "    return item, reward\n",
    "\n",
    "# Simulate the outcomes of purchase\n",
    "ts_total_reward = 0\n",
    "for t in range(T):\n",
    "    item, reward = Thompson_sampling()\n",
    "    if reward==1:\n",
    "        win[item]+=1\n",
    "    else:\n",
    "        lose[item]+=1\n",
    "    ts_total_reward+=reward\n",
    "\n",
    "    \n",
    "# Show results\n",
    "print('Number of turns {0}:'.format(T))  \n",
    "\n",
    "print('For Thompson Sampling results:')  \n",
    "for i in range(N):\n",
    "    estimated_award[i] = win[i]/(win[i]+lose[i])\n",
    "    print('Estimated Award for type{0}: {1:.2%}'.format(i, estimated_award[i]))\n",
    "print('Thompson Sampling Conclusion:')  \n",
    "print('The best type to sell is type {}!'.format(np.argmax(estimated_award)))\n",
    "print('The total times to sell is {}!'.format(ts_total_reward))"
   ]
  },
  {
   "cell_type": "markdown",
   "metadata": {},
   "source": [
    "# 4. E-greedy\n",
    "The ε-greedy algorithm takes the best action most of the time, but does random exploration occasionally. The action value is estimated according to the past experience by averaging the rewards associated with the target action a that we have observed so far (up to the current time step t)"
   ]
  },
  {
   "cell_type": "code",
   "execution_count": 22,
   "metadata": {},
   "outputs": [
    {
     "name": "stdout",
     "output_type": "stream",
     "text": [
      "Number of turns 1000:\n",
      "For e-greedy results:\n",
      "Estimated Award for type0: 78.89%\n",
      "Estimated Award for type1: 70.27%\n",
      "Estimated Award for type2: 77.78%\n",
      "Estimated Award for type3: 34.04%\n",
      "Estimated Award for type4: 66.35%\n",
      "Estimated Award for type5: 94.94%\n",
      "Estimated Award for type6: 89.47%\n",
      "Estimated Award for type7: 52.50%\n",
      "Estimated Award for type8: 88.00%\n",
      "Estimated Award for type9: 82.76%\n",
      "E-greedy Conclusion:\n",
      "The best type to sell is type 5!\n",
      "The total times to sell is 722!\n"
     ]
    }
   ],
   "source": [
    "# e-greedy\n",
    "# Choose the current-best-reward one with probability equals epsilon; \n",
    "# Choose random ones with probability equals 1-epsilon\n",
    "estimated_award = np.zeros(N)\n",
    "item_count = np.zeros(N)\n",
    "epsilon = 0.1\n",
    "\n",
    "def e_greedy():\n",
    "    choose = np.random.binomial(n=1,p=epsilon)\n",
    "    if choose:\n",
    "        item = np.argmax(estimated_award)\n",
    "        reward = np.random.binomial(n=1,p=true_award[item])\n",
    "    else:\n",
    "        item = np.random.choice(N, 1)\n",
    "        reward = np.random.binomial(n=1,p=true_award[item])\n",
    "    return item, reward\n",
    "\n",
    "e_total_award = 0\n",
    "for t in range(T):\n",
    "    item, reward = e_greedy()\n",
    "    e_total_award+=reward\n",
    "    estimated_award[item] += reward\n",
    "    item_count[item]+=1\n",
    "\n",
    "e_total_award=e_total_award[0]\n",
    "\n",
    "#Show results\n",
    "print('Number of turns {0}:'.format(T))  \n",
    "\n",
    "print('For e-greedy results:')\n",
    "for i in range(N):\n",
    "    estimated_award[i] /= item_count[i]\n",
    "    print('Estimated Award for type{0}: {1:.2%}'.format(i, estimated_award[i]))\n",
    "print('E-greedy Conclusion:')\n",
    "print('The best type to sell is type {}!'.format(np.argmax(estimated_award)))\n",
    "print('The total times to sell is {}!'.format(e_total_award))"
   ]
  },
  {
   "cell_type": "markdown",
   "metadata": {},
   "source": [
    "# 5. UBC\n",
    "Random exploration gives us an opportunity to try out options that we have not known much about. However, due to the randomness, it is possible we end up exploring a bad action which we have confirmed in the past (bad luck!). To avoid such inefficient exploration, one approach is to decrease the parameter ε in time and the other is to be optimistic about options with high uncertainty and thus to prefer actions for which we haven’t had a confident value estimation yet. Or in other words, we favor exploration of actions with a strong potential to have a optimal value."
   ]
  },
  {
   "cell_type": "code",
   "execution_count": 23,
   "metadata": {},
   "outputs": [
    {
     "name": "stdout",
     "output_type": "stream",
     "text": [
      "Number of turns 1000:\n",
      "For UCB results:\n",
      "Estimated Award for type0: 81.68%\n",
      "Estimated Award for type1: 59.52%\n",
      "Estimated Award for type2: 70.32%\n",
      "Estimated Award for type3: 37.14%\n",
      "Estimated Award for type4: 67.94%\n",
      "Estimated Award for type5: 88.48%\n",
      "Estimated Award for type6: 0.00%\n",
      "Estimated Award for type7: 0.00%\n",
      "Estimated Award for type8: 0.00%\n",
      "Estimated Award for type9: 0.00%\n",
      "For UCB Conclusion:\n",
      "The best type to sell is type 5!\n",
      "The total times to sell is 760!\n"
     ]
    }
   ],
   "source": [
    "#UBC\n",
    "# Estimate the true probability by observation p' and error delta, adjusting the probability\n",
    "ucb_c=np.sqrt(2)\n",
    "estimated_award = np.zeros(N) # q-value of actions\n",
    "choose_count = np.zeros(N) # action count\n",
    "\n",
    "u_total_award = 0\n",
    "\n",
    "def cal_delta(T, item):\n",
    "    if choose_count[item] == 0:\n",
    "        return 1\n",
    "    else:\n",
    "        return ucb_c*np.sqrt(np.log(T) / choose_count[item])\n",
    "\n",
    "def UCB(t, N):\n",
    "    upper_bound_probs = [estimated_award[item] + cal_delta(t, item) for item in range(N)]\n",
    "    item = np.argmax(upper_bound_probs)\n",
    "    reward = np.random.binomial(n=1, p=true_award[item])\n",
    "    return item, reward\n",
    "\n",
    "\n",
    "for t in range(1,T+1):\n",
    "    item, reward = UCB(t, N)\n",
    "    u_total_award += reward\n",
    "\n",
    "    estimated_award[item] = (choose_count[item]*estimated_award[item] + reward) / (choose_count[item]+1)\n",
    "    choose_count[item]+=1\n",
    "\n",
    "#Show results\n",
    "print('Number of turns {0}:'.format(T))  \n",
    "\n",
    "print('For UCB results:')\n",
    "for i in range(N):\n",
    "    print('Estimated Award for type{0}: {1:.2%}'.format(i, estimated_award[i]))\n",
    "    \n",
    "print('For UCB Conclusion:')\n",
    "print('The best type to sell is type {}!'.format(np.argmax(estimated_award)))\n",
    "print('The total times to sell is {}!'.format(u_total_award))\n"
   ]
  },
  {
   "cell_type": "markdown",
   "metadata": {},
   "source": [
    "# 6. Ramdom sampling"
   ]
  },
  {
   "cell_type": "code",
   "execution_count": 24,
   "metadata": {},
   "outputs": [
    {
     "name": "stdout",
     "output_type": "stream",
     "text": [
      "Total wins with Random sampling: 698\n",
      "Total wins with Thompson sampling: 885\n",
      "Total wins with e-greedy: 722\n",
      "Total wins with UBC: 760\n"
     ]
    }
   ],
   "source": [
    "# Random Sampling\n",
    "\n",
    "# This cell is from [1]\n",
    "#Determine how many times the items can be sell if we randomly choose a type to sell for each turn\n",
    "total_wins_random_sampling=0;\n",
    "for t in range (T):\n",
    "    n=np.random.randint(0, N) #randomly choose a type\n",
    "    if outcomes[t][n] ==1:\n",
    "        total_wins_random_sampling+=1\n",
    "\n",
    "\n",
    "#Show results\n",
    "print('Total wins with Random sampling: {}'.format(total_wins_random_sampling))\n",
    "print('Total wins with Thompson sampling: {}'.format(ts_total_reward))\n",
    "print('Total wins with e-greedy: {}'.format(e_total_award))\n",
    "print('Total wins with UBC: {}'.format(u_total_award))"
   ]
  },
  {
   "cell_type": "markdown",
   "metadata": {},
   "source": [
    "# 7. Conclusion\n",
    "\n",
    "(1)Based on result analysis and comparison, Thompson sampling is able to get the most reward (maximized profit) in most instances, and UBC can also get quite high reward.\n",
    "\n",
    "(2)Random sampling always get extremely unstable results and ususlly can't get high rewards. So this sampling method is not recommended.\n",
    "\n",
    "(3)E-greedy often performs at the middle level about the reward consequence.\n",
    "\n",
    "(4)Thompson sampling frequently keeps consistent with the reality outcomes in this simulation, including the best-selling type. So, Thompson sampling is the most suitable method to this case."
   ]
  },
  {
   "cell_type": "markdown",
   "metadata": {},
   "source": [
    "# 8. Questions Answers\n",
    "1. Important Hyperparameters\n",
    "\n",
    "Thompson Sampling: \n",
    "Alpha and Beta are important hyperparameters for Thompson Sampling. Because for the Bernouilli-greedy algorithm, Bernouilli parameters are expected values of the Beta distribution, and Thompson algorithm follows Thompson(K,𝛼,𝛽)[2].\n",
    "\n",
    "e-greedy:\n",
    "Epsilon is very important for e-greedy algorithm. Using incremental update rule.we need update the Q-value of each action[2].When simulating by e-greedy, we use eplision possibility to choose the best one based on experience, and use 1-eplision as possibility to choose ones randomly. So eplision is critical to this algorithm. \n",
    "\n",
    "UBC:\n",
    "Hyperparameter c is important, and it can weigh the uncertainty of UBC algorithm. The UCB uncertainty is deterministic and beneficial[2], so c is key and need tuning.\n",
    "\n",
    "Random Sampling:\n",
    "Random Sampling chooses individual randomly and entirely by chance. So not much hyperparameters are used in random sampling and parameters like T,N in this code are important.\n",
    "\n",
    "2. Action Space\n",
    "\n",
    "Action space here is mainly effect by N (item type) or steps in this code. We can set different step values and see how they influence these algorithm.\n",
    "\n",
    "From the part 9 [2] Graph 1 and 2, we can see, after step raises from 10 to 200, epsilon-greedy's cerve doesn't change a lot and keep the same trend.However, the regret value get a little higher at the same N value.Because from equations of e-greedy, it doesn't related to N a lot.\n",
    "For Thompson, the slop get slow down and lose turning point, and regret value get increased.The curve doesn't get stable at a value after increasing step. Because from Thompson equations, N increase will cause continuous changes of regret so the curve is not very sharp in the beginning. \n",
    "For UCB, the curve becomes discontinuous and discreted. It has great jump and distrubution for about every 200 x value. From UCB's equations, we can find ln function can cause some extreme values and make the curve discreted. And ln function is also symmetrical in its functional graph so the curve for UCB also shows a little regurlar distrubution.\n",
    "For Random sampling, it does't have summarizable and obvious distribution changes because its simulation process is random.\n",
    "\n",
    "3. Stationarity\n",
    "\n",
    "When we want to set the data to be non-stationarity, we need to resample the action Bernouilli parameters and see how it affacts.\n",
    "From the part 9 [2] Graph 1 and 3, we can see, all the algorithm curves get restart regularly because non-stationarity environment requires resample for every 100 steps. So stationarity is important when simulating and modeling in order to get a stable result.\n",
    "\n",
    "4. Stop exploring \n",
    "\n",
    "When to stop exploring is based on the rate we want acquire.Optimal stopping is helpful to gain the information before making a decision. Our experience of the cases and ways to simulation and model are important. We can set expected value, variance of data, reward result or other key value as the line and standard to stop exploring.In addition, observing the curve between different parameters also help control the sampling.\n",
    "\n",
    "E-greddy is strightforward and based on incremental update rule. From some obervation before and experience, updating Q-value promptly and controlling epsilon possibility is important to decide when to stop.\n",
    "Thompson algorithm and UCB include measure of uncertainty.Fundamentally, the UCB uncertainty is deterministic and beneficial, whereas in the Thompson case, uncertainty increases the expected reward variance[2]. We can decide to stop Thompson by argmax𝜃̂ and oberve(x) to achieve an idea reward variance based on quality and uncertainty. While use c value to assist the stopping of UCB.\n",
    "Random sampling is totally stochastic and uncertain, it is easy to get bad actions and unexpected values. We can stop when risk is high or can't bear its unknow reult. \n",
    "\n",
    "Exploration-exploitation tradeoff:\n",
    "It is the decision making when cosidering choosing a familiar option with a known reward value (exploitation) or choosing an unfamiliar option with an unknown or uncertain reward value (exploration). In oder to deal with this dilemma, we need to simulate and model wisely to reach a good expected result or balance between choices and avoid bad actions.\n",
    "\n",
    "5. Past actions\n",
    "\n",
    "Thompson Sampling:\n",
    "It incorporates uncertainty by modeling Bernouilli parameter with prior beta distribition and always chooses the action with the highest expected reward.So Thompson algorithm will remember past actions and data related to best reward shortly before higher value appear to compare.\n",
    "\n",
    "E-greedy:\n",
    "Because of incremental update rule, to update the Q-value of each action, e-greedy need maintain a count of each action.\n",
    "\n",
    "UBC:\n",
    "Based on some equations from this algorithm, it always picks the arms with the highest plausible reward so it need observe Ti(t-1) samples from bandit i and has oberved mean rewards for that bandit. UBC also need choose the action i that maximizes the quantity. In conclusion, it need to remember past actions to get highest plausible estimate of mean for badnit.\n",
    "\n",
    "Random sampling:\n",
    "It is basically random and pick up data by chance. So it doesn't need to remember past actions and only simulate current action."
   ]
  },
  {
   "cell_type": "markdown",
   "metadata": {},
   "source": [
    "6. Thompson Sampling with non-Beta(normal) distribution "
   ]
  },
  {
   "cell_type": "code",
   "execution_count": 13,
   "metadata": {},
   "outputs": [
    {
     "name": "stdout",
     "output_type": "stream",
     "text": [
      "Thompson sampling with normal distribution result:\n",
      "Number of turns 1000:\n",
      "Item type 0 was sold 4.0 times that is, 0.40%\n",
      "Item type 1 was sold 2.0 times that is, 0.20%\n",
      "Item type 2 was sold 3.0 times that is, 0.30%\n",
      "Item type 3 was sold 4.0 times that is, 0.40%\n",
      "Item type 4 was sold 4.0 times that is, 0.40%\n",
      "Item type 5 was sold 4.0 times that is, 0.40%\n",
      "Item type 6 was sold 577.0 times that is, 57.70%\n",
      "Item type 7 was sold 18.0 times that is, 1.80%\n",
      "Item type 8 was sold 372.0 times that is, 37.20%\n",
      "Item type 9 was sold 1012.0 times that is, 101.20%\n",
      "\n",
      "Overall Conclusion: The best type to sell is type 9!\n",
      "True award for type 0: 46.97%\n",
      "True award for type 1: 24.01%\n",
      "True award for type 2: 14.12%\n",
      "True award for type 3: 52.37%\n",
      "True award for type 4: 29.62%\n",
      "True award for type 5: 64.59%\n",
      "True award for type 6: 92.06%\n",
      "True award for type 7: 85.18%\n",
      "True award for type 8: 89.88%\n",
      "True award for type 9: 60.70%\n"
     ]
    }
   ],
   "source": [
    "# Thompson sampling with normal distribution\n",
    "# This cell is main adapted from[1]\n",
    "# Use environment set before\n",
    "# Generate random numbers by normal(win[arm], lose[arm]) to each type, and choose the biggest one in this turn\n",
    "\n",
    "#for each turn\n",
    "for t in range(T):\n",
    "    index = -1\n",
    "    max_normal = -1 # note that max beta\n",
    "\n",
    "    for i in range(N): #for each slot machine\n",
    "        a = win[i] + 1\n",
    "        b = lose[i] + 1\n",
    "\n",
    "        random_normal = np.random.normal(a, b) # Use normal distribution\n",
    "\n",
    "        if random_normal > max_normal:\n",
    "            max_norma = random_normal \n",
    "            index = i \n",
    "    \n",
    "    if outcomes[t][n] == 1:\n",
    "        win[i] += 1\n",
    "    else:\n",
    "        lose[i] += 1\n",
    "\n",
    "# Show result\n",
    "print('Thompson sampling with normal distribution result:')  \n",
    "print('Number of turns {0}:'.format(T))  \n",
    "number_of_times_played = win + lose\n",
    "for i in range(N): \n",
    "    print('Item type {0} was sold {1} times that is, {2:.2%}'.format(i, number_of_times_played[i], (number_of_times_played[i]/T)))\n",
    "\n",
    "#identify and display the best slot machine to play\n",
    "print('\\nOverall Conclusion: The best type to sell is type {}!'.format(np.argmax(number_of_times_played)))\n",
    "for i in range(N):\n",
    "  print('True award for type {0}: {1:.2%}'.format(i, true_award[i]))  "
   ]
  },
  {
   "cell_type": "markdown",
   "metadata": {},
   "source": [
    "7. Code citing\n",
    "\n",
    "The code parts which need cite are shown in the code comments according to reference in the following part.The other parts are what I adapted and wrote myself.\n",
    "\n",
    "9. License\n",
    "\n",
    "MIT License and copyright is shown at the end of this file"
   ]
  },
  {
   "cell_type": "markdown",
   "metadata": {},
   "source": [
    "# 9. Experiments and curves\n",
    "This part is mainly from [2], in order to show the graphs and curves of these algorithm and answer question 2 (Action Space) and 3 (Stationarity) better."
   ]
  },
  {
   "cell_type": "code",
   "execution_count": 14,
   "metadata": {},
   "outputs": [],
   "source": [
    "# Bernouilli sampling\n",
    "import numpy as np\n",
    "import matplotlib.pyplot as plt\n",
    "from pdb import set_trace\n",
    "\n",
    "stationary=True\n",
    "class Bandit():\n",
    "    def __init__(self, arm_count):\n",
    " \n",
    "        self.arm_count = arm_count\n",
    "        self.generate_thetas()\n",
    "        self.timestep = 0\n",
    "\n",
    "        global stationary\n",
    "        self.stationary=stationary\n",
    "     \n",
    "    def generate_thetas(self):\n",
    "        self.thetas = np.random.uniform(0,1,self.arm_count)\n",
    "    def get_reward_regret(self, arm):\n",
    "   \n",
    "        self.timestep += 1\n",
    "        if (self.stationary==False) and (self.timestep%100 == 0) :\n",
    "            self.generate_thetas()\n",
    "    # Simulate bernouilli sampling\n",
    "        sim = np.random.uniform(0,1,self.arm_count)\n",
    "        rewards = (sim<self.thetas).astype(int)\n",
    "        reward = rewards[arm]\n",
    "        regret = self.thetas.max() - self.thetas[arm]\n",
    "    \n",
    "        return reward, regret\n",
    "\n",
    "# Thompson sampling\n",
    "class BetaAlgo():\n",
    "    \n",
    "    def __init__(self, bandit):\n",
    "  \n",
    "        self.bandit = bandit\n",
    "        self.arm_count = bandit.arm_count\n",
    "        self.alpha = np.ones(self.arm_count)\n",
    "        self.beta = np.ones(self.arm_count)\n",
    "  \n",
    "    def get_reward_regret(self, arm):\n",
    "        reward, regret = self.bandit.get_reward_regret(arm)\n",
    "        self._update_params(arm, reward)\n",
    "        return reward, regret\n",
    "  \n",
    "    def _update_params(self, arm, reward):\n",
    "        self.alpha[arm] += reward\n",
    "        self.beta[arm] += 1 - reward\n",
    "\n",
    "class BernGreedy(BetaAlgo):\n",
    "    def __init__(self, bandit):\n",
    "        super().__init__(bandit)\n",
    "   \n",
    "    @staticmethod\n",
    "    def name():\n",
    "        return 'beta-greedy'\n",
    "   \n",
    "    def get_action(self):\n",
    "        theta = self.alpha / (self.alpha + self.beta)\n",
    "        return theta.argmax()\n",
    "\n",
    "class BernThompson(BetaAlgo):\n",
    "    def __init__(self, bandit):\n",
    "        super().__init__(bandit)\n",
    "\n",
    "    @staticmethod\n",
    "    def name():\n",
    "        return 'thompson'\n",
    "\n",
    "    def get_action(self):\n",
    "    \n",
    "        theta = np.random.beta(self.alpha, self.beta)\n",
    "        return theta.argmax()\n",
    "\n",
    "# E-greedy\n",
    "epsilon = 0.1\n",
    "class EpsilonGreedy():\n",
    "    def __init__(self, bandit):\n",
    "        global epsilon\n",
    "        self.epsilon = epsilon\n",
    "        self.bandit = bandit\n",
    "        self.arm_count = bandit.arm_count\n",
    "        self.Q = np.zeros(self.arm_count) # q-value of actions\n",
    "        self.N = np.zeros(self.arm_count) # action count\n",
    "  \n",
    "    @staticmethod\n",
    "    def name():\n",
    "        return 'epsilon-greedy'\n",
    "  \n",
    "    def get_action(self):\n",
    "        if np.random.uniform(0,1) > self.epsilon:\n",
    "            action = self.Q.argmax()\n",
    "        else:\n",
    "            action = np.random.randint(0, self.arm_count)\n",
    "        return action\n",
    "  \n",
    "    def get_reward_regret(self, arm):\n",
    "        reward, regret = self.bandit.get_reward_regret(arm)\n",
    "        self._update_params(arm, reward)\n",
    "        return reward, regret\n",
    "  \n",
    "    def _update_params(self, arm, reward):\n",
    "        self.N[arm] += 1 # increment action count\n",
    "        self.Q[arm] += 1/self.N[arm] * (reward - self.Q[arm]) # inc. update rule\n",
    " \n",
    " # UCB\n",
    "ucb_c = 2\n",
    "class UCB():\n",
    "\n",
    "    def __init__(self, bandit):\n",
    "        global ucb_c\n",
    "        self.ucb_c = ucb_c\n",
    "        self.bandit = bandit\n",
    "        self.arm_count = bandit.arm_count\n",
    "        self.Q = np.zeros(self.arm_count) # q-value of actions\n",
    "        self.N = np.zeros(self.arm_count) + 0.0001 # action count\n",
    "        self.timestep = 1\n",
    "  \n",
    "    @staticmethod\n",
    "    def name():\n",
    "        return 'ucb'\n",
    "  \n",
    "    def get_action(self):\n",
    "        ln_timestep = np.log(np.full(self.arm_count, self.timestep))\n",
    "        confidence = self.ucb_c * np.sqrt(ln_timestep/self.N)\n",
    "        action = np.argmax(self.Q + confidence)\n",
    "        self.timestep += 1\n",
    "        return action\n",
    "  \n",
    "    def get_reward_regret(self, arm):\n",
    "        reward, regret = self.bandit.get_reward_regret(arm)\n",
    "        self._update_params(arm, reward)\n",
    "        return reward, regret\n",
    "  \n",
    "    def _update_params(self, arm, reward):\n",
    "        self.N[arm] += 1 # increment action count\n",
    "        self.Q[arm] += 1/self.N[arm] * (reward - self.Q[arm]) # inc. update rule"
   ]
  },
  {
   "cell_type": "code",
   "execution_count": 15,
   "metadata": {},
   "outputs": [],
   "source": [
    "# Graph methods\n",
    "def plot_data(y):\n",
    "    x = np.arange(y.size)\n",
    "    _ = plt.plot(x, y, 'o')\n",
    "\n",
    "def multi_plot_data(data, names):\n",
    "    x = np.arange(data[0].size)\n",
    "    for i, y in enumerate(data):\n",
    "        plt.plot(x, y, 'o', markersize=2, label=names[i])\n",
    "    plt.legend(loc='upper right', prop={'size': 16}, numpoints=10)\n",
    "    plt.show()\n",
    "\n",
    "def simulate(simulations, timesteps, arm_count, Algorithm):\n",
    "    sum_regrets = np.zeros(timesteps)\n",
    "    for e in range(simulations):\n",
    "        bandit = Bandit(arm_count)\n",
    "        algo = Algorithm(bandit)\n",
    "        regrets = np.zeros(timesteps)\n",
    "        for i in range(timesteps):\n",
    "            action = algo.get_action()\n",
    "            reward, regret = algo.get_reward_regret(action)\n",
    "            regrets[i] = regret\n",
    "        sum_regrets += regrets  \n",
    "    mean_regrets = sum_regrets / simulations\n",
    "    return mean_regrets\n",
    "\n",
    "def experiment(arm_count, timesteps=1000, simulations=1000):\n",
    "\n",
    "    algos = [EpsilonGreedy, UCB, BernThompson]\n",
    "    regrets = []\n",
    "    names = []\n",
    "    for algo in algos:\n",
    "        regrets.append(simulate(simulations, timesteps, arm_count, algo))\n",
    "        names.append(algo.name())\n",
    "    multi_plot_data(regrets, names)"
   ]
  },
  {
   "cell_type": "code",
   "execution_count": 16,
   "metadata": {},
   "outputs": [
    {
     "data": {
      "image/png": "[encoded data removed]",
      "text/plain": [
       "<Figure size 432x288 with 1 Axes>"
      ]
     },
     "metadata": {
      "needs_background": "light"
     },
     "output_type": "display_data"
    }
   ],
   "source": [
    "#Experiments\n",
    "\n",
    "# Graph 1\n",
    "arm_count = 10 # number of arms in bandit\n",
    "epsilon = 0.1\n",
    "ucb_c = 2\n",
    "stationary=True\n",
    "experiment(arm_count)"
   ]
  },
  {
   "cell_type": "code",
   "execution_count": 17,
   "metadata": {},
   "outputs": [
    {
     "data": {
      "image/png": "[encoded data removed]",
      "text/plain": [
       "<Figure size 432x288 with 1 Axes>"
      ]
     },
     "metadata": {
      "needs_background": "light"
     },
     "output_type": "display_data"
    }
   ],
   "source": [
    "# Graph 2\n",
    "arm_count = 200 # number of arms in bandit\n",
    "epsilon = 0.1\n",
    "ucb_c = 2\n",
    "stationary=True\n",
    "experiment(arm_count)"
   ]
  },
  {
   "cell_type": "code",
   "execution_count": 18,
   "metadata": {},
   "outputs": [
    {
     "data": {
      "image/png": "[encoded data removed]",
      "text/plain": [
       "<Figure size 432x288 with 1 Axes>"
      ]
     },
     "metadata": {
      "needs_background": "light"
     },
     "output_type": "display_data"
    }
   ],
   "source": [
    "# Graph 3\n",
    "arm_count = 10 # number of arms in bandit\n",
    "epsilon = 0.1\n",
    "ucb_c = 2\n",
    "stationary=False\n",
    "experiment(arm_count)"
   ]
  },
  {
   "cell_type": "markdown",
   "metadata": {},
   "source": [
    "# Reference\n",
    "[1]: Reinforcement Learning - Thompson Sampling & the Multi-Armed Bandit Problem. URL:https://colab.research.google.com/drive/1gdR7k7jtSRqYnPNHcbAKdIjGRjQXpfnA#scrollTo=3tlM4eA5b85A\n",
    "\n",
    "[2]: Andre Clanflone-Thompson sampling.URL:https://colab.research.google.com/drive/1BHVH712x2Q2As9E5nN5Y8UR74T8w6AMO#scrollTo=lnzzQ4WZFLQ1 \n",
    "\n",
    "[3]: Russo, Daniel, Benjamin Van Roy, Abbas Kazerouni, and Ian Osband. \"A Tutorial on Thompson Sampling.\" arXiv preprint arXiv:1707.02038 (2017). URL:https://arxiv.org/abs/1707.02038"
   ]
  },
  {
   "cell_type": "markdown",
   "metadata": {},
   "source": [
    "Copyright <2021> <Mengzhe Zhang>\n",
    "\n",
    "Permission is hereby granted, free of charge, to any person obtaining a copy of this software and associated documentation files\n",
    "(the \"Software\"), to deal in the Software without restriction, including without limitation the rights to use, copy, modify, merge,\n",
    "publish, distribute, sublicense, and/or sell copies of the Software, and to permit persons to whom the Software is furnished to do \n",
    "so,subject to the following conditions:\n",
    "\n",
    "The above copyright notice and this permission notice shall be included in all copies or substantial portions of the Software.\n",
    "\n",
    "THE SOFTWARE IS PROVIDED \"AS IS\", WITHOUT WARRANTY OF ANY KIND, EXPRESS OR IMPLIED, INCLUDING BUT NOT LIMITED TO THE WARRANTIES OF \n",
    "MERCHANTABILITY, FITNESS FOR A PARTICULAR PURPOSE AND NONINFRINGEMENT. IN NO EVENT SHALL THE AUTHORS OR COPYRIGHT HOLDERS BE LIABLE \n",
    "FOR ANY CLAIM, DAMAGES OR OTHER LIABILITY, WHETHER IN AN ACTION OF CONTRACT, TORT OR OTHERWISE, ARISING FROM, OUT OF OR \n",
    "IN CONNECTION WITH THE SOFTWARE OR THE USE OR OTHER DEALINGS IN THE SOFTWARE."
   ]
  }
 ],
 "metadata": {
  "kernelspec": {
   "display_name": "Python 3",
   "language": "python",
   "name": "python3"
  },
  "language_info": {
   "codemirror_mode": {
    "name": "ipython",
    "version": 3
   },
   "file_extension": ".py",
   "mimetype": "text/x-python",
   "name": "python",
   "nbconvert_exporter": "python",
   "pygments_lexer": "ipython3",
   "version": "3.8.5"
  }
 },
 "nbformat": 4,
 "nbformat_minor": 4
}
